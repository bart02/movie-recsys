{
 "cells": [
  {
   "cell_type": "code",
   "execution_count": 1,
   "id": "initial_id",
   "metadata": {
    "collapsed": true,
    "ExecuteTime": {
     "end_time": "2023-12-03T22:26:38.039426Z",
     "start_time": "2023-12-03T22:26:37.808058Z"
    }
   },
   "outputs": [],
   "source": [
    "import pandas as pd\n",
    "from rectools import Columns"
   ]
  },
  {
   "cell_type": "code",
   "execution_count": 2,
   "outputs": [],
   "source": [
    "df = pd.read_csv('../data/interim/rating.csv')\n",
    "df.datetime = pd.to_datetime(df.datetime)"
   ],
   "metadata": {
    "collapsed": false,
    "ExecuteTime": {
     "end_time": "2023-12-03T22:26:38.709960Z",
     "start_time": "2023-12-03T22:26:38.666438Z"
    }
   },
   "id": "46bc48d018986cc4"
  },
  {
   "cell_type": "markdown",
   "source": [
    "# Split data\n",
    "Split data into train and test sets by time. The train set should contain all the data before a certain time point. The test set should contain only users and items that are in the train set."
   ],
   "metadata": {
    "collapsed": false
   },
   "id": "52c63a1f9fda38c8"
  },
  {
   "cell_type": "code",
   "execution_count": 4,
   "outputs": [],
   "source": [
    "split_dt = pd.Timestamp(\"1998-03-01\")\n",
    "df_train = df.loc[df[\"datetime\"] < split_dt]\n",
    "df_test = df.loc[df[\"datetime\"] >= split_dt]"
   ],
   "metadata": {
    "collapsed": false,
    "ExecuteTime": {
     "end_time": "2023-12-03T22:26:39.487017Z",
     "start_time": "2023-12-03T22:26:39.481459Z"
    }
   },
   "id": "31ae80d5c65fb95d"
  },
  {
   "cell_type": "code",
   "execution_count": 5,
   "outputs": [],
   "source": [
    "# Remove non-intersected users and items in test set\n",
    "df_test = df_test.loc[df_test[Columns.User].isin(df_train[Columns.User])]\n",
    "df_test = df_test.loc[df_test[Columns.Item].isin(df_train[Columns.Item])]"
   ],
   "metadata": {
    "collapsed": false,
    "ExecuteTime": {
     "end_time": "2023-12-03T22:26:39.823826Z",
     "start_time": "2023-12-03T22:26:39.819269Z"
    }
   },
   "id": "e1ebec92e996279c"
  },
  {
   "cell_type": "code",
   "execution_count": 6,
   "outputs": [
    {
     "data": {
      "text/plain": "(77985, 4)"
     },
     "execution_count": 6,
     "metadata": {},
     "output_type": "execute_result"
    }
   ],
   "source": [
    "df_train.shape"
   ],
   "metadata": {
    "collapsed": false,
    "ExecuteTime": {
     "end_time": "2023-12-03T22:26:40.262655Z",
     "start_time": "2023-12-03T22:26:40.255395Z"
    }
   },
   "id": "ccf9a00925b36f94"
  },
  {
   "cell_type": "code",
   "execution_count": 7,
   "outputs": [
    {
     "data": {
      "text/plain": "(3715, 4)"
     },
     "execution_count": 7,
     "metadata": {},
     "output_type": "execute_result"
    }
   ],
   "source": [
    "df_test.shape"
   ],
   "metadata": {
    "collapsed": false,
    "ExecuteTime": {
     "end_time": "2023-12-03T22:26:40.576834Z",
     "start_time": "2023-12-03T22:26:40.567823Z"
    }
   },
   "id": "4ac58b0c5e0e00a3"
  },
  {
   "cell_type": "markdown",
   "source": [
    "# Fit model and generate recommendations\n",
    "Make recommendations for all users in the train set."
   ],
   "metadata": {
    "collapsed": false
   },
   "id": "7b629d453c447555"
  },
  {
   "cell_type": "code",
   "execution_count": 10,
   "outputs": [],
   "source": [
    "from rectools.dataset import Dataset\n",
    "from rectools.models import PureSVDModel\n",
    "\n",
    "# Fit model and generate recommendations for all users\n",
    "dataset = Dataset.construct(df_train)\n",
    "model = PureSVDModel()\n",
    "model.fit(dataset)\n",
    "recos = model.recommend(\n",
    "    users=df_train[Columns.User].unique(),\n",
    "    dataset=dataset,\n",
    "    k=10,\n",
    "    filter_viewed=True,\n",
    ")"
   ],
   "metadata": {
    "collapsed": false,
    "ExecuteTime": {
     "end_time": "2023-12-03T22:31:44.519735Z",
     "start_time": "2023-12-03T22:31:44.166136Z"
    }
   },
   "id": "55c35dfaf83cc017"
  },
  {
   "cell_type": "code",
   "execution_count": 13,
   "outputs": [
    {
     "data": {
      "text/plain": "   user_id  item_id     score  rank\n0      196      275  1.252115     1\n1      196       14  1.188147     2\n2      196       83  1.128285     3\n3      196      137  1.026659     4\n4      196      283  1.010775     5\n5      196      268  0.916849     6\n6      196      216  0.823668     7\n7      196       88  0.814514     8\n8      196      168  0.805023     9\n9      196      709  0.778019    10",
      "text/html": "<div>\n<style scoped>\n    .dataframe tbody tr th:only-of-type {\n        vertical-align: middle;\n    }\n\n    .dataframe tbody tr th {\n        vertical-align: top;\n    }\n\n    .dataframe thead th {\n        text-align: right;\n    }\n</style>\n<table border=\"1\" class=\"dataframe\">\n  <thead>\n    <tr style=\"text-align: right;\">\n      <th></th>\n      <th>user_id</th>\n      <th>item_id</th>\n      <th>score</th>\n      <th>rank</th>\n    </tr>\n  </thead>\n  <tbody>\n    <tr>\n      <th>0</th>\n      <td>196</td>\n      <td>275</td>\n      <td>1.252115</td>\n      <td>1</td>\n    </tr>\n    <tr>\n      <th>1</th>\n      <td>196</td>\n      <td>14</td>\n      <td>1.188147</td>\n      <td>2</td>\n    </tr>\n    <tr>\n      <th>2</th>\n      <td>196</td>\n      <td>83</td>\n      <td>1.128285</td>\n      <td>3</td>\n    </tr>\n    <tr>\n      <th>3</th>\n      <td>196</td>\n      <td>137</td>\n      <td>1.026659</td>\n      <td>4</td>\n    </tr>\n    <tr>\n      <th>4</th>\n      <td>196</td>\n      <td>283</td>\n      <td>1.010775</td>\n      <td>5</td>\n    </tr>\n    <tr>\n      <th>5</th>\n      <td>196</td>\n      <td>268</td>\n      <td>0.916849</td>\n      <td>6</td>\n    </tr>\n    <tr>\n      <th>6</th>\n      <td>196</td>\n      <td>216</td>\n      <td>0.823668</td>\n      <td>7</td>\n    </tr>\n    <tr>\n      <th>7</th>\n      <td>196</td>\n      <td>88</td>\n      <td>0.814514</td>\n      <td>8</td>\n    </tr>\n    <tr>\n      <th>8</th>\n      <td>196</td>\n      <td>168</td>\n      <td>0.805023</td>\n      <td>9</td>\n    </tr>\n    <tr>\n      <th>9</th>\n      <td>196</td>\n      <td>709</td>\n      <td>0.778019</td>\n      <td>10</td>\n    </tr>\n  </tbody>\n</table>\n</div>"
     },
     "execution_count": 13,
     "metadata": {},
     "output_type": "execute_result"
    }
   ],
   "source": [
    "recos.head(10)"
   ],
   "metadata": {
    "collapsed": false,
    "ExecuteTime": {
     "end_time": "2023-12-03T22:32:04.279229Z",
     "start_time": "2023-12-03T22:32:04.270988Z"
    }
   },
   "id": "42257ebb762a28d5"
  },
  {
   "cell_type": "markdown",
   "source": [
    "# Evaluate the model\n",
    "We will use the folowing metrics to evaluate the model:\n",
    "- **MAP** focuses on the accuracy and relevance of the recommended items, as well as the order in which they are presented;\n",
    "- **MIUF** ensures that the recommender system is not falling into the trap of suggesting the same popular items to everyone, thus maintaining individual user preferences;\n",
    "- **Serendipity** adds value to the user experience by introducing novel and unexpected recommendations, enhancing user engagement."
   ],
   "metadata": {
    "collapsed": false
   },
   "id": "8d0cd94cb9a7437b"
  },
  {
   "cell_type": "code",
   "execution_count": 15,
   "outputs": [],
   "source": [
    "from rectools.metrics import MAP, calc_metrics, MeanInvUserFreq, Serendipity\n",
    "\n",
    "metrics_name = {\n",
    "    'MAP': MAP,\n",
    "    'MIUF': MeanInvUserFreq,\n",
    "    'Serendipity': Serendipity\n",
    "}\n",
    "metrics = {}\n",
    "for metric_name, metric in metrics_name.items():\n",
    "    for k in (1, 5, 10):\n",
    "        metrics[f'{metric_name}@{k}'] = metric(k=k)\n",
    "\n",
    "# Source: https://github.com/MobileTeleSystems/RecTools/blob/main/examples/5_benchmark_iALS_with_features.ipynb"
   ],
   "metadata": {
    "collapsed": false,
    "ExecuteTime": {
     "end_time": "2023-12-03T22:44:10.685559Z",
     "start_time": "2023-12-03T22:44:10.673003Z"
    }
   },
   "id": "4e661ebe22d3a86f"
  },
  {
   "cell_type": "code",
   "execution_count": 16,
   "outputs": [
    {
     "data": {
      "text/plain": "{'MAP@1': 0.012814167708482482,\n 'MAP@5': 0.03506828335993217,\n 'MAP@10': 0.04703166095311614,\n 'MIUF@1': 1.4890965142827466,\n 'MIUF@5': 1.6994769174820519,\n 'MIUF@10': 1.8418333388662567,\n 'Serendipity@1': 0.000912556781310837,\n 'Serendipity@5': 0.0008971785096257837,\n 'Serendipity@10': 0.000849438270603504}"
     },
     "execution_count": 16,
     "metadata": {},
     "output_type": "execute_result"
    }
   ],
   "source": [
    "catalog = df_train[Columns.Item].unique()\n",
    "\n",
    "calc_metrics(\n",
    "    metrics,\n",
    "    reco=recos,\n",
    "    interactions=df_test,\n",
    "    prev_interactions=df_train,\n",
    "    catalog=catalog\n",
    ")"
   ],
   "metadata": {
    "collapsed": false,
    "ExecuteTime": {
     "end_time": "2023-12-03T22:44:10.860118Z",
     "start_time": "2023-12-03T22:44:10.823492Z"
    }
   },
   "id": "365b6c8a92954f59"
  },
  {
   "cell_type": "code",
   "execution_count": 24,
   "outputs": [],
   "source": [
    "catalog = df_train[Columns.Item].unique()\n"
   ],
   "metadata": {
    "collapsed": false
   },
   "id": "465a68b3b5aefcc4"
  },
  {
   "cell_type": "markdown",
   "source": [
    "# Make recommendations for a specific user"
   ],
   "metadata": {
    "collapsed": false
   },
   "id": "226f70bf0c6af1eb"
  },
  {
   "cell_type": "code",
   "execution_count": 33,
   "outputs": [
    {
     "data": {
      "text/plain": "94     318\n864    262\n393    234\n416    209\n64     175\n      ... \n654      1\n454      1\n790      1\n838      1\n913      1\nName: user_id, Length: 120, dtype: int64"
     },
     "execution_count": 33,
     "metadata": {},
     "output_type": "execute_result"
    }
   ],
   "source": [
    "df_test.user_id.value_counts()"
   ],
   "metadata": {
    "collapsed": false,
    "ExecuteTime": {
     "end_time": "2023-12-03T22:52:54.855823Z",
     "start_time": "2023-12-03T22:52:54.843094Z"
    }
   },
   "id": "19ccfc5ee0a2c59f"
  },
  {
   "cell_type": "code",
   "execution_count": 54,
   "outputs": [],
   "source": [
    "USER_ID = 102"
   ],
   "metadata": {
    "collapsed": false,
    "ExecuteTime": {
     "end_time": "2023-12-03T22:54:03.338704Z",
     "start_time": "2023-12-03T22:54:03.321187Z"
    }
   },
   "id": "78889014ae471257"
  },
  {
   "cell_type": "code",
   "execution_count": 55,
   "outputs": [
    {
     "data": {
      "text/plain": "     user_id  item_id     score  rank\n200      102      748  1.606712     1\n201      102      333  1.568864     2\n202      102      269  1.559424     3\n203      102      289  1.418947     4\n204      102      268  1.351251     5\n205      102      323  1.344190     6\n206      102      690  1.265940     7\n207      102       50  1.199980     8\n208      102      340  1.105534     9\n209      102      678  1.101053    10",
      "text/html": "<div>\n<style scoped>\n    .dataframe tbody tr th:only-of-type {\n        vertical-align: middle;\n    }\n\n    .dataframe tbody tr th {\n        vertical-align: top;\n    }\n\n    .dataframe thead th {\n        text-align: right;\n    }\n</style>\n<table border=\"1\" class=\"dataframe\">\n  <thead>\n    <tr style=\"text-align: right;\">\n      <th></th>\n      <th>user_id</th>\n      <th>item_id</th>\n      <th>score</th>\n      <th>rank</th>\n    </tr>\n  </thead>\n  <tbody>\n    <tr>\n      <th>200</th>\n      <td>102</td>\n      <td>748</td>\n      <td>1.606712</td>\n      <td>1</td>\n    </tr>\n    <tr>\n      <th>201</th>\n      <td>102</td>\n      <td>333</td>\n      <td>1.568864</td>\n      <td>2</td>\n    </tr>\n    <tr>\n      <th>202</th>\n      <td>102</td>\n      <td>269</td>\n      <td>1.559424</td>\n      <td>3</td>\n    </tr>\n    <tr>\n      <th>203</th>\n      <td>102</td>\n      <td>289</td>\n      <td>1.418947</td>\n      <td>4</td>\n    </tr>\n    <tr>\n      <th>204</th>\n      <td>102</td>\n      <td>268</td>\n      <td>1.351251</td>\n      <td>5</td>\n    </tr>\n    <tr>\n      <th>205</th>\n      <td>102</td>\n      <td>323</td>\n      <td>1.344190</td>\n      <td>6</td>\n    </tr>\n    <tr>\n      <th>206</th>\n      <td>102</td>\n      <td>690</td>\n      <td>1.265940</td>\n      <td>7</td>\n    </tr>\n    <tr>\n      <th>207</th>\n      <td>102</td>\n      <td>50</td>\n      <td>1.199980</td>\n      <td>8</td>\n    </tr>\n    <tr>\n      <th>208</th>\n      <td>102</td>\n      <td>340</td>\n      <td>1.105534</td>\n      <td>9</td>\n    </tr>\n    <tr>\n      <th>209</th>\n      <td>102</td>\n      <td>678</td>\n      <td>1.101053</td>\n      <td>10</td>\n    </tr>\n  </tbody>\n</table>\n</div>"
     },
     "execution_count": 55,
     "metadata": {},
     "output_type": "execute_result"
    }
   ],
   "source": [
    "recos[recos.user_id == USER_ID]"
   ],
   "metadata": {
    "collapsed": false,
    "ExecuteTime": {
     "end_time": "2023-12-03T22:54:03.467987Z",
     "start_time": "2023-12-03T22:54:03.463410Z"
    }
   },
   "id": "17fcf7c8951c8e9f"
  },
  {
   "cell_type": "code",
   "execution_count": 56,
   "outputs": [],
   "source": [
    "inter = set(df_test[df_test.user_id == USER_ID].item_id) & set(recos[recos.user_id == USER_ID].item_id)"
   ],
   "metadata": {
    "collapsed": false,
    "ExecuteTime": {
     "end_time": "2023-12-03T22:54:03.611347Z",
     "start_time": "2023-12-03T22:54:03.607216Z"
    }
   },
   "id": "a5449028f8275ffa"
  },
  {
   "cell_type": "code",
   "execution_count": 57,
   "outputs": [
    {
     "name": "stderr",
     "output_type": "stream",
     "text": [
      "/var/folders/br/x34nk3k51rvd171z3m5bcwd40000gn/T/ipykernel_71337/1681985334.py:1: UserWarning: Boolean Series key will be reindexed to match DataFrame index.\n",
      "  df_test[df_test.user_id == USER_ID][df_test.item_id.isin(inter)]\n"
     ]
    },
    {
     "data": {
      "text/plain": "       user_id  item_id  weight            datetime\n12415      102       50       4 1998-03-02 01:15:15\n15297      102      748       3 1998-03-02 01:09:54\n46148      102      269       2 1998-04-01 10:53:16",
      "text/html": "<div>\n<style scoped>\n    .dataframe tbody tr th:only-of-type {\n        vertical-align: middle;\n    }\n\n    .dataframe tbody tr th {\n        vertical-align: top;\n    }\n\n    .dataframe thead th {\n        text-align: right;\n    }\n</style>\n<table border=\"1\" class=\"dataframe\">\n  <thead>\n    <tr style=\"text-align: right;\">\n      <th></th>\n      <th>user_id</th>\n      <th>item_id</th>\n      <th>weight</th>\n      <th>datetime</th>\n    </tr>\n  </thead>\n  <tbody>\n    <tr>\n      <th>12415</th>\n      <td>102</td>\n      <td>50</td>\n      <td>4</td>\n      <td>1998-03-02 01:15:15</td>\n    </tr>\n    <tr>\n      <th>15297</th>\n      <td>102</td>\n      <td>748</td>\n      <td>3</td>\n      <td>1998-03-02 01:09:54</td>\n    </tr>\n    <tr>\n      <th>46148</th>\n      <td>102</td>\n      <td>269</td>\n      <td>2</td>\n      <td>1998-04-01 10:53:16</td>\n    </tr>\n  </tbody>\n</table>\n</div>"
     },
     "execution_count": 57,
     "metadata": {},
     "output_type": "execute_result"
    }
   ],
   "source": [
    "df_test[df_test.user_id == USER_ID][df_test.item_id.isin(inter)]"
   ],
   "metadata": {
    "collapsed": false,
    "ExecuteTime": {
     "end_time": "2023-12-03T22:54:04.891616Z",
     "start_time": "2023-12-03T22:54:04.883803Z"
    }
   },
   "id": "6b706081a5a40485"
  },
  {
   "cell_type": "code",
   "execution_count": 58,
   "outputs": [
    {
     "name": "stderr",
     "output_type": "stream",
     "text": [
      "/var/folders/br/x34nk3k51rvd171z3m5bcwd40000gn/T/ipykernel_71337/3435006634.py:1: UserWarning: Boolean Series key will be reindexed to match DataFrame index.\n",
      "  recos[recos.user_id == USER_ID][recos.item_id.isin(inter)]\n"
     ]
    },
    {
     "data": {
      "text/plain": "     user_id  item_id     score  rank\n200      102      748  1.606712     1\n202      102      269  1.559424     3\n207      102       50  1.199980     8",
      "text/html": "<div>\n<style scoped>\n    .dataframe tbody tr th:only-of-type {\n        vertical-align: middle;\n    }\n\n    .dataframe tbody tr th {\n        vertical-align: top;\n    }\n\n    .dataframe thead th {\n        text-align: right;\n    }\n</style>\n<table border=\"1\" class=\"dataframe\">\n  <thead>\n    <tr style=\"text-align: right;\">\n      <th></th>\n      <th>user_id</th>\n      <th>item_id</th>\n      <th>score</th>\n      <th>rank</th>\n    </tr>\n  </thead>\n  <tbody>\n    <tr>\n      <th>200</th>\n      <td>102</td>\n      <td>748</td>\n      <td>1.606712</td>\n      <td>1</td>\n    </tr>\n    <tr>\n      <th>202</th>\n      <td>102</td>\n      <td>269</td>\n      <td>1.559424</td>\n      <td>3</td>\n    </tr>\n    <tr>\n      <th>207</th>\n      <td>102</td>\n      <td>50</td>\n      <td>1.199980</td>\n      <td>8</td>\n    </tr>\n  </tbody>\n</table>\n</div>"
     },
     "execution_count": 58,
     "metadata": {},
     "output_type": "execute_result"
    }
   ],
   "source": [
    "recos[recos.user_id == USER_ID][recos.item_id.isin(inter)]"
   ],
   "metadata": {
    "collapsed": false,
    "ExecuteTime": {
     "end_time": "2023-12-03T22:54:06.937890Z",
     "start_time": "2023-12-03T22:54:06.926499Z"
    }
   },
   "id": "48aa76ee251da13a"
  },
  {
   "cell_type": "markdown",
   "source": [
    "PROBLEM: The model could recommend items that the user has already seen, but rated poorly. This is not a good recommendation. But according to the metrics, the prediction is good.\n",
    "\n",
    "SOLUTION: Think about new metric."
   ],
   "metadata": {
    "collapsed": false
   },
   "id": "56a7d64370bc7fee"
  },
  {
   "cell_type": "code",
   "execution_count": null,
   "outputs": [],
   "source": [],
   "metadata": {
    "collapsed": false
   },
   "id": "b898551a722f4097"
  }
 ],
 "metadata": {
  "kernelspec": {
   "display_name": "Python 3",
   "language": "python",
   "name": "python3"
  },
  "language_info": {
   "codemirror_mode": {
    "name": "ipython",
    "version": 2
   },
   "file_extension": ".py",
   "mimetype": "text/x-python",
   "name": "python",
   "nbconvert_exporter": "python",
   "pygments_lexer": "ipython2",
   "version": "2.7.6"
  }
 },
 "nbformat": 4,
 "nbformat_minor": 5
}
