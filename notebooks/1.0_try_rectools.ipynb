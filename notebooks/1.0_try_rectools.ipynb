{
 "cells": [
  {
   "cell_type": "code",
   "execution_count": 3,
   "id": "initial_id",
   "metadata": {
    "collapsed": true,
    "ExecuteTime": {
     "end_time": "2023-12-03T15:03:30.963546Z",
     "start_time": "2023-12-03T15:03:30.684766Z"
    }
   },
   "outputs": [],
   "source": [
    "import pandas as pd\n",
    "from rectools import Columns"
   ]
  },
  {
   "cell_type": "code",
   "execution_count": 4,
   "outputs": [],
   "source": [
    "df = pd.read_csv('../data/interim/rating.csv')"
   ],
   "metadata": {
    "collapsed": false,
    "ExecuteTime": {
     "end_time": "2023-12-03T15:03:30.994007Z",
     "start_time": "2023-12-03T15:03:30.964006Z"
    }
   },
   "id": "46bc48d018986cc4"
  },
  {
   "cell_type": "code",
   "execution_count": 5,
   "outputs": [],
   "source": [
    "df.datetime = pd.to_datetime(df.datetime)"
   ],
   "metadata": {
    "collapsed": false,
    "ExecuteTime": {
     "end_time": "2023-12-03T15:03:31.006030Z",
     "start_time": "2023-12-03T15:03:31.003487Z"
    }
   },
   "id": "62a20a6bbfffcbb4"
  },
  {
   "cell_type": "code",
   "execution_count": 6,
   "outputs": [],
   "source": [
    "split_dt = pd.Timestamp(\"1998-03-01\")\n",
    "df_train = df.loc[df[\"datetime\"] < split_dt]\n",
    "df_test = df.loc[df[\"datetime\"] >= split_dt]"
   ],
   "metadata": {
    "collapsed": false,
    "ExecuteTime": {
     "end_time": "2023-12-03T15:03:31.135654Z",
     "start_time": "2023-12-03T15:03:31.130959Z"
    }
   },
   "id": "31ae80d5c65fb95d"
  },
  {
   "cell_type": "code",
   "execution_count": 19,
   "outputs": [],
   "source": [
    "# Remove non-intersected users and items in test set\n",
    "df_test = df_test.loc[df_test[Columns.User].isin(df_train[Columns.User])]"
   ],
   "metadata": {
    "collapsed": false,
    "ExecuteTime": {
     "end_time": "2023-12-03T15:05:56.310706Z",
     "start_time": "2023-12-03T15:05:56.305711Z"
    }
   },
   "id": "e1ebec92e996279c"
  },
  {
   "cell_type": "code",
   "execution_count": 20,
   "outputs": [
    {
     "data": {
      "text/plain": "(77985, 4)"
     },
     "execution_count": 20,
     "metadata": {},
     "output_type": "execute_result"
    }
   ],
   "source": [
    "df_train.shape"
   ],
   "metadata": {
    "collapsed": false,
    "ExecuteTime": {
     "end_time": "2023-12-03T15:05:57.620546Z",
     "start_time": "2023-12-03T15:05:57.616007Z"
    }
   },
   "id": "ccf9a00925b36f94"
  },
  {
   "cell_type": "code",
   "execution_count": 21,
   "outputs": [
    {
     "data": {
      "text/plain": "(3811, 4)"
     },
     "execution_count": 21,
     "metadata": {},
     "output_type": "execute_result"
    }
   ],
   "source": [
    "df_test.shape"
   ],
   "metadata": {
    "collapsed": false,
    "ExecuteTime": {
     "end_time": "2023-12-03T15:05:57.807313Z",
     "start_time": "2023-12-03T15:05:57.804968Z"
    }
   },
   "id": "4ac58b0c5e0e00a3"
  },
  {
   "cell_type": "code",
   "execution_count": 47,
   "outputs": [],
   "source": [
    "from rectools.dataset import Dataset\n",
    "from rectools.models import PopularModel\n",
    "\n",
    "# Fit model and generate recommendations for all users\n",
    "dataset = Dataset.construct(df_train)\n",
    "model = PopularModel()\n",
    "model.fit(dataset)\n",
    "recos = model.recommend(\n",
    "    users=df_train[Columns.User].unique(),\n",
    "    dataset=dataset,\n",
    "    k=10,\n",
    "    filter_viewed=True,\n",
    ")"
   ],
   "metadata": {
    "collapsed": false,
    "ExecuteTime": {
     "end_time": "2023-12-03T15:20:07.886783Z",
     "start_time": "2023-12-03T15:20:07.836968Z"
    }
   },
   "id": "55c35dfaf83cc017"
  },
  {
   "cell_type": "code",
   "execution_count": 48,
   "outputs": [
    {
     "data": {
      "text/plain": "      user_id  item_id  score  rank\n0         196       50  466.0     1\n1         196      181  414.0     2\n2         196      100  412.0     3\n3         196      294  388.0     4\n4         196      258  382.0     5\n...       ...      ...    ...   ...\n7355      578        1  372.0     6\n7356      578      121  359.0     7\n7357      578      286  359.0     8\n7358      578      174  333.0     9\n7359      578      127  327.0    10\n\n[7360 rows x 4 columns]",
      "text/html": "<div>\n<style scoped>\n    .dataframe tbody tr th:only-of-type {\n        vertical-align: middle;\n    }\n\n    .dataframe tbody tr th {\n        vertical-align: top;\n    }\n\n    .dataframe thead th {\n        text-align: right;\n    }\n</style>\n<table border=\"1\" class=\"dataframe\">\n  <thead>\n    <tr style=\"text-align: right;\">\n      <th></th>\n      <th>user_id</th>\n      <th>item_id</th>\n      <th>score</th>\n      <th>rank</th>\n    </tr>\n  </thead>\n  <tbody>\n    <tr>\n      <th>0</th>\n      <td>196</td>\n      <td>50</td>\n      <td>466.0</td>\n      <td>1</td>\n    </tr>\n    <tr>\n      <th>1</th>\n      <td>196</td>\n      <td>181</td>\n      <td>414.0</td>\n      <td>2</td>\n    </tr>\n    <tr>\n      <th>2</th>\n      <td>196</td>\n      <td>100</td>\n      <td>412.0</td>\n      <td>3</td>\n    </tr>\n    <tr>\n      <th>3</th>\n      <td>196</td>\n      <td>294</td>\n      <td>388.0</td>\n      <td>4</td>\n    </tr>\n    <tr>\n      <th>4</th>\n      <td>196</td>\n      <td>258</td>\n      <td>382.0</td>\n      <td>5</td>\n    </tr>\n    <tr>\n      <th>...</th>\n      <td>...</td>\n      <td>...</td>\n      <td>...</td>\n      <td>...</td>\n    </tr>\n    <tr>\n      <th>7355</th>\n      <td>578</td>\n      <td>1</td>\n      <td>372.0</td>\n      <td>6</td>\n    </tr>\n    <tr>\n      <th>7356</th>\n      <td>578</td>\n      <td>121</td>\n      <td>359.0</td>\n      <td>7</td>\n    </tr>\n    <tr>\n      <th>7357</th>\n      <td>578</td>\n      <td>286</td>\n      <td>359.0</td>\n      <td>8</td>\n    </tr>\n    <tr>\n      <th>7358</th>\n      <td>578</td>\n      <td>174</td>\n      <td>333.0</td>\n      <td>9</td>\n    </tr>\n    <tr>\n      <th>7359</th>\n      <td>578</td>\n      <td>127</td>\n      <td>327.0</td>\n      <td>10</td>\n    </tr>\n  </tbody>\n</table>\n<p>7360 rows × 4 columns</p>\n</div>"
     },
     "execution_count": 48,
     "metadata": {},
     "output_type": "execute_result"
    }
   ],
   "source": [
    "recos"
   ],
   "metadata": {
    "collapsed": false,
    "ExecuteTime": {
     "end_time": "2023-12-03T15:20:08.899994Z",
     "start_time": "2023-12-03T15:20:08.895239Z"
    }
   },
   "id": "42257ebb762a28d5"
  },
  {
   "cell_type": "code",
   "execution_count": 49,
   "outputs": [
    {
     "data": {
      "text/plain": "       user_id  item_id  weight            datetime\n1          186      302       3 1998-04-04 19:22:22\n1091       186      148       4 1998-04-04 19:56:14\n5758       186      333       3 1998-04-04 19:40:20\n8692       186     1253       4 1998-04-04 19:56:14\n10136      186      257       4 1998-04-04 19:56:14\n10792      186      327       3 1998-04-04 19:23:26\n11500      186      988       4 1998-04-04 19:56:15\n14183      186      546       4 1998-04-04 19:56:15\n15164      186      338       3 1998-03-13 19:45:31\n21493      186      306       4 1998-04-04 19:21:30\n23818      186      829       4 1998-04-04 19:56:15\n25634      186     1399       2 1998-04-04 19:35:30\n25920      186      754       2 1998-04-04 19:21:30\n30183      186      303       3 1998-04-04 19:25:38\n30201      186      332       4 1998-04-04 19:56:15\n31515      186       98       5 1998-04-04 19:57:39\n35347      186      880       3 1998-04-04 19:38:20\n51615      186      477       4 1998-04-04 19:56:15\n56723      186      887       4 1998-04-04 19:22:41\n60976      186      330       4 1998-04-04 19:27:18\n61047      186      689       4 1998-03-13 19:38:08\n80051      186      177       4 1998-04-04 19:56:15\n83275      186      331       3 1998-03-13 19:38:08\n93543      186      147       4 1998-04-04 19:56:14\n98812      186      269       1 1998-03-13 19:41:34",
      "text/html": "<div>\n<style scoped>\n    .dataframe tbody tr th:only-of-type {\n        vertical-align: middle;\n    }\n\n    .dataframe tbody tr th {\n        vertical-align: top;\n    }\n\n    .dataframe thead th {\n        text-align: right;\n    }\n</style>\n<table border=\"1\" class=\"dataframe\">\n  <thead>\n    <tr style=\"text-align: right;\">\n      <th></th>\n      <th>user_id</th>\n      <th>item_id</th>\n      <th>weight</th>\n      <th>datetime</th>\n    </tr>\n  </thead>\n  <tbody>\n    <tr>\n      <th>1</th>\n      <td>186</td>\n      <td>302</td>\n      <td>3</td>\n      <td>1998-04-04 19:22:22</td>\n    </tr>\n    <tr>\n      <th>1091</th>\n      <td>186</td>\n      <td>148</td>\n      <td>4</td>\n      <td>1998-04-04 19:56:14</td>\n    </tr>\n    <tr>\n      <th>5758</th>\n      <td>186</td>\n      <td>333</td>\n      <td>3</td>\n      <td>1998-04-04 19:40:20</td>\n    </tr>\n    <tr>\n      <th>8692</th>\n      <td>186</td>\n      <td>1253</td>\n      <td>4</td>\n      <td>1998-04-04 19:56:14</td>\n    </tr>\n    <tr>\n      <th>10136</th>\n      <td>186</td>\n      <td>257</td>\n      <td>4</td>\n      <td>1998-04-04 19:56:14</td>\n    </tr>\n    <tr>\n      <th>10792</th>\n      <td>186</td>\n      <td>327</td>\n      <td>3</td>\n      <td>1998-04-04 19:23:26</td>\n    </tr>\n    <tr>\n      <th>11500</th>\n      <td>186</td>\n      <td>988</td>\n      <td>4</td>\n      <td>1998-04-04 19:56:15</td>\n    </tr>\n    <tr>\n      <th>14183</th>\n      <td>186</td>\n      <td>546</td>\n      <td>4</td>\n      <td>1998-04-04 19:56:15</td>\n    </tr>\n    <tr>\n      <th>15164</th>\n      <td>186</td>\n      <td>338</td>\n      <td>3</td>\n      <td>1998-03-13 19:45:31</td>\n    </tr>\n    <tr>\n      <th>21493</th>\n      <td>186</td>\n      <td>306</td>\n      <td>4</td>\n      <td>1998-04-04 19:21:30</td>\n    </tr>\n    <tr>\n      <th>23818</th>\n      <td>186</td>\n      <td>829</td>\n      <td>4</td>\n      <td>1998-04-04 19:56:15</td>\n    </tr>\n    <tr>\n      <th>25634</th>\n      <td>186</td>\n      <td>1399</td>\n      <td>2</td>\n      <td>1998-04-04 19:35:30</td>\n    </tr>\n    <tr>\n      <th>25920</th>\n      <td>186</td>\n      <td>754</td>\n      <td>2</td>\n      <td>1998-04-04 19:21:30</td>\n    </tr>\n    <tr>\n      <th>30183</th>\n      <td>186</td>\n      <td>303</td>\n      <td>3</td>\n      <td>1998-04-04 19:25:38</td>\n    </tr>\n    <tr>\n      <th>30201</th>\n      <td>186</td>\n      <td>332</td>\n      <td>4</td>\n      <td>1998-04-04 19:56:15</td>\n    </tr>\n    <tr>\n      <th>31515</th>\n      <td>186</td>\n      <td>98</td>\n      <td>5</td>\n      <td>1998-04-04 19:57:39</td>\n    </tr>\n    <tr>\n      <th>35347</th>\n      <td>186</td>\n      <td>880</td>\n      <td>3</td>\n      <td>1998-04-04 19:38:20</td>\n    </tr>\n    <tr>\n      <th>51615</th>\n      <td>186</td>\n      <td>477</td>\n      <td>4</td>\n      <td>1998-04-04 19:56:15</td>\n    </tr>\n    <tr>\n      <th>56723</th>\n      <td>186</td>\n      <td>887</td>\n      <td>4</td>\n      <td>1998-04-04 19:22:41</td>\n    </tr>\n    <tr>\n      <th>60976</th>\n      <td>186</td>\n      <td>330</td>\n      <td>4</td>\n      <td>1998-04-04 19:27:18</td>\n    </tr>\n    <tr>\n      <th>61047</th>\n      <td>186</td>\n      <td>689</td>\n      <td>4</td>\n      <td>1998-03-13 19:38:08</td>\n    </tr>\n    <tr>\n      <th>80051</th>\n      <td>186</td>\n      <td>177</td>\n      <td>4</td>\n      <td>1998-04-04 19:56:15</td>\n    </tr>\n    <tr>\n      <th>83275</th>\n      <td>186</td>\n      <td>331</td>\n      <td>3</td>\n      <td>1998-03-13 19:38:08</td>\n    </tr>\n    <tr>\n      <th>93543</th>\n      <td>186</td>\n      <td>147</td>\n      <td>4</td>\n      <td>1998-04-04 19:56:14</td>\n    </tr>\n    <tr>\n      <th>98812</th>\n      <td>186</td>\n      <td>269</td>\n      <td>1</td>\n      <td>1998-03-13 19:41:34</td>\n    </tr>\n  </tbody>\n</table>\n</div>"
     },
     "execution_count": 49,
     "metadata": {},
     "output_type": "execute_result"
    }
   ],
   "source": [
    "df_test[df_test.user_id == 186]"
   ],
   "metadata": {
    "collapsed": false,
    "ExecuteTime": {
     "end_time": "2023-12-03T15:20:09.513596Z",
     "start_time": "2023-12-03T15:20:09.508477Z"
    }
   },
   "id": "37b4bfc97c505852"
  },
  {
   "cell_type": "code",
   "execution_count": 50,
   "outputs": [
    {
     "data": {
      "text/plain": "      user_id  item_id  score  rank\n1890      186       50  466.0     1\n1891      186      181  414.0     2\n1892      186        1  372.0     3\n1893      186      286  359.0     4\n1894      186      174  333.0     5\n1895      186      127  327.0     6\n1896      186        7  323.0     7\n1897      186       98  307.0     8\n1898      186      222  305.0     9\n1899      186      172  293.0    10",
      "text/html": "<div>\n<style scoped>\n    .dataframe tbody tr th:only-of-type {\n        vertical-align: middle;\n    }\n\n    .dataframe tbody tr th {\n        vertical-align: top;\n    }\n\n    .dataframe thead th {\n        text-align: right;\n    }\n</style>\n<table border=\"1\" class=\"dataframe\">\n  <thead>\n    <tr style=\"text-align: right;\">\n      <th></th>\n      <th>user_id</th>\n      <th>item_id</th>\n      <th>score</th>\n      <th>rank</th>\n    </tr>\n  </thead>\n  <tbody>\n    <tr>\n      <th>1890</th>\n      <td>186</td>\n      <td>50</td>\n      <td>466.0</td>\n      <td>1</td>\n    </tr>\n    <tr>\n      <th>1891</th>\n      <td>186</td>\n      <td>181</td>\n      <td>414.0</td>\n      <td>2</td>\n    </tr>\n    <tr>\n      <th>1892</th>\n      <td>186</td>\n      <td>1</td>\n      <td>372.0</td>\n      <td>3</td>\n    </tr>\n    <tr>\n      <th>1893</th>\n      <td>186</td>\n      <td>286</td>\n      <td>359.0</td>\n      <td>4</td>\n    </tr>\n    <tr>\n      <th>1894</th>\n      <td>186</td>\n      <td>174</td>\n      <td>333.0</td>\n      <td>5</td>\n    </tr>\n    <tr>\n      <th>1895</th>\n      <td>186</td>\n      <td>127</td>\n      <td>327.0</td>\n      <td>6</td>\n    </tr>\n    <tr>\n      <th>1896</th>\n      <td>186</td>\n      <td>7</td>\n      <td>323.0</td>\n      <td>7</td>\n    </tr>\n    <tr>\n      <th>1897</th>\n      <td>186</td>\n      <td>98</td>\n      <td>307.0</td>\n      <td>8</td>\n    </tr>\n    <tr>\n      <th>1898</th>\n      <td>186</td>\n      <td>222</td>\n      <td>305.0</td>\n      <td>9</td>\n    </tr>\n    <tr>\n      <th>1899</th>\n      <td>186</td>\n      <td>172</td>\n      <td>293.0</td>\n      <td>10</td>\n    </tr>\n  </tbody>\n</table>\n</div>"
     },
     "execution_count": 50,
     "metadata": {},
     "output_type": "execute_result"
    }
   ],
   "source": [
    "recos[recos.user_id == 186]"
   ],
   "metadata": {
    "collapsed": false,
    "ExecuteTime": {
     "end_time": "2023-12-03T15:20:10.262819Z",
     "start_time": "2023-12-03T15:20:10.257371Z"
    }
   },
   "id": "f21c5569a29caf73"
  },
  {
   "cell_type": "code",
   "execution_count": 51,
   "outputs": [],
   "source": [
    "from rectools.metrics import (\n",
    "    Precision,\n",
    "    Accuracy,\n",
    "    NDCG,\n",
    "    IntraListDiversity,\n",
    "    Serendipity,\n",
    "    calc_metrics,\n",
    ")\n",
    "\n",
    "precision = Precision(k=10)\n",
    "accuracy_1 = Accuracy(k=1)\n",
    "accuracy_10 = Accuracy(k=10)\n",
    "serendipity = Serendipity(k=10)"
   ],
   "metadata": {
    "collapsed": false,
    "ExecuteTime": {
     "end_time": "2023-12-03T15:20:10.928574Z",
     "start_time": "2023-12-03T15:20:10.926195Z"
    }
   },
   "id": "4e661ebe22d3a86f"
  },
  {
   "cell_type": "code",
   "execution_count": 52,
   "outputs": [
    {
     "name": "stdout",
     "output_type": "stream",
     "text": [
      "precision: 0.15083333333333335\n",
      "\n",
      "precision per user:\n"
     ]
    },
    {
     "data": {
      "text/plain": "user_id\n1     0.1\n2     0.1\n13    0.2\n14    0.4\n23    0.0\ndtype: float64"
     },
     "metadata": {},
     "output_type": "display_data"
    },
    {
     "name": "stdout",
     "output_type": "stream",
     "text": [
      "Values are equal?  True\n"
     ]
    }
   ],
   "source": [
    "precision_value = precision.calc(reco=recos, interactions=df_test)\n",
    "print(f\"precision: {precision_value}\")\n",
    "\n",
    "precision_per_user = precision.calc_per_user(reco=recos, interactions=df_test)\n",
    "print(\"\\nprecision per user:\")\n",
    "display(precision_per_user.head())\n",
    "\n",
    "print(\"Values are equal? \", precision_per_user.mean() == precision_value)"
   ],
   "metadata": {
    "collapsed": false,
    "ExecuteTime": {
     "end_time": "2023-12-03T15:20:12.020108Z",
     "start_time": "2023-12-03T15:20:12.003095Z"
    }
   },
   "id": "191b3539aca93b96"
  },
  {
   "cell_type": "code",
   "execution_count": 43,
   "outputs": [],
   "source": [
    "catalog = df_train[Columns.Item].unique()\n"
   ],
   "metadata": {
    "collapsed": false,
    "ExecuteTime": {
     "end_time": "2023-12-03T15:18:47.251149Z",
     "start_time": "2023-12-03T15:18:47.242857Z"
    }
   },
   "id": "465a68b3b5aefcc4"
  },
  {
   "cell_type": "code",
   "execution_count": 46,
   "outputs": [
    {
     "data": {
      "text/plain": "         __LIKED  __TP  __FP  __FN    TN\nuser_id                                 \n1             11     0     1    11  1596\n2             10     0     1    10  1597\n13            29     0     1    29  1578\n14            37     1     0    36  1571\n23             1     0     1     1  1606\n...          ...   ...   ...   ...   ...\n891           22     1     0    21  1586\n894            7     0     1     7  1600\n913            1     0     1     1  1606\n924            6     0     1     6  1601\n940            5     0     1     5  1602\n\n[120 rows x 5 columns]",
      "text/html": "<div>\n<style scoped>\n    .dataframe tbody tr th:only-of-type {\n        vertical-align: middle;\n    }\n\n    .dataframe tbody tr th {\n        vertical-align: top;\n    }\n\n    .dataframe thead th {\n        text-align: right;\n    }\n</style>\n<table border=\"1\" class=\"dataframe\">\n  <thead>\n    <tr style=\"text-align: right;\">\n      <th></th>\n      <th>__LIKED</th>\n      <th>__TP</th>\n      <th>__FP</th>\n      <th>__FN</th>\n      <th>TN</th>\n    </tr>\n    <tr>\n      <th>user_id</th>\n      <th></th>\n      <th></th>\n      <th></th>\n      <th></th>\n      <th></th>\n    </tr>\n  </thead>\n  <tbody>\n    <tr>\n      <th>1</th>\n      <td>11</td>\n      <td>0</td>\n      <td>1</td>\n      <td>11</td>\n      <td>1596</td>\n    </tr>\n    <tr>\n      <th>2</th>\n      <td>10</td>\n      <td>0</td>\n      <td>1</td>\n      <td>10</td>\n      <td>1597</td>\n    </tr>\n    <tr>\n      <th>13</th>\n      <td>29</td>\n      <td>0</td>\n      <td>1</td>\n      <td>29</td>\n      <td>1578</td>\n    </tr>\n    <tr>\n      <th>14</th>\n      <td>37</td>\n      <td>1</td>\n      <td>0</td>\n      <td>36</td>\n      <td>1571</td>\n    </tr>\n    <tr>\n      <th>23</th>\n      <td>1</td>\n      <td>0</td>\n      <td>1</td>\n      <td>1</td>\n      <td>1606</td>\n    </tr>\n    <tr>\n      <th>...</th>\n      <td>...</td>\n      <td>...</td>\n      <td>...</td>\n      <td>...</td>\n      <td>...</td>\n    </tr>\n    <tr>\n      <th>891</th>\n      <td>22</td>\n      <td>1</td>\n      <td>0</td>\n      <td>21</td>\n      <td>1586</td>\n    </tr>\n    <tr>\n      <th>894</th>\n      <td>7</td>\n      <td>0</td>\n      <td>1</td>\n      <td>7</td>\n      <td>1600</td>\n    </tr>\n    <tr>\n      <th>913</th>\n      <td>1</td>\n      <td>0</td>\n      <td>1</td>\n      <td>1</td>\n      <td>1606</td>\n    </tr>\n    <tr>\n      <th>924</th>\n      <td>6</td>\n      <td>0</td>\n      <td>1</td>\n      <td>6</td>\n      <td>1601</td>\n    </tr>\n    <tr>\n      <th>940</th>\n      <td>5</td>\n      <td>0</td>\n      <td>1</td>\n      <td>5</td>\n      <td>1602</td>\n    </tr>\n  </tbody>\n</table>\n<p>120 rows × 5 columns</p>\n</div>"
     },
     "execution_count": 46,
     "metadata": {},
     "output_type": "execute_result"
    }
   ],
   "source": [
    "from rectools.metrics.classification import make_confusions, FN\n",
    "\n",
    "confusion_df = make_confusions(recos, df_test, k=1)\n",
    "confusion_df[\"TN\"] = len(catalog) - 1 - confusion_df[FN]\n",
    "confusion_df"
   ],
   "metadata": {
    "collapsed": false,
    "ExecuteTime": {
     "end_time": "2023-12-03T15:19:24.758705Z",
     "start_time": "2023-12-03T15:19:24.744114Z"
    }
   },
   "id": "8ebd1b7c88f7e314"
  },
  {
   "cell_type": "code",
   "execution_count": 36,
   "outputs": [
    {
     "name": "stdout",
     "output_type": "stream",
     "text": [
      "Accuracy@1:  0.9798248341625208\n",
      "Accuracy@10:  0.9746113184079602\n"
     ]
    }
   ],
   "source": [
    "print(\"Accuracy@1: \", accuracy_1.calc(reco=recos, interactions=df_test, catalog=catalog))\n",
    "print(\"Accuracy@10: \", accuracy_10.calc(reco=recos, interactions=df_test, catalog=catalog))"
   ],
   "metadata": {
    "collapsed": false,
    "ExecuteTime": {
     "end_time": "2023-12-03T15:09:00.692927Z",
     "start_time": "2023-12-03T15:09:00.683777Z"
    }
   },
   "id": "be4e4f0c66ea88ca"
  },
  {
   "cell_type": "code",
   "execution_count": 38,
   "outputs": [],
   "source": [
    "ndcg = NDCG(k=10, log_base=3)"
   ],
   "metadata": {
    "collapsed": false,
    "ExecuteTime": {
     "end_time": "2023-12-03T15:10:48.892004Z",
     "start_time": "2023-12-03T15:10:48.889392Z"
    }
   },
   "id": "136a72f27ecc1a2e"
  },
  {
   "cell_type": "code",
   "execution_count": 39,
   "outputs": [
    {
     "name": "stdout",
     "output_type": "stream",
     "text": [
      "NDCG:  0.0738215750949401\n"
     ]
    }
   ],
   "source": [
    "print(\"NDCG: \", ndcg.calc(reco=recos, interactions=df_test))"
   ],
   "metadata": {
    "collapsed": false,
    "ExecuteTime": {
     "end_time": "2023-12-03T15:10:49.600686Z",
     "start_time": "2023-12-03T15:10:49.594848Z"
    }
   },
   "id": "16a3353242275ea8"
  },
  {
   "cell_type": "code",
   "execution_count": null,
   "outputs": [],
   "source": [],
   "metadata": {
    "collapsed": false
   },
   "id": "9a4684491465a832"
  }
 ],
 "metadata": {
  "kernelspec": {
   "display_name": "Python 3",
   "language": "python",
   "name": "python3"
  },
  "language_info": {
   "codemirror_mode": {
    "name": "ipython",
    "version": 2
   },
   "file_extension": ".py",
   "mimetype": "text/x-python",
   "name": "python",
   "nbconvert_exporter": "python",
   "pygments_lexer": "ipython2",
   "version": "2.7.6"
  }
 },
 "nbformat": 4,
 "nbformat_minor": 5
}
