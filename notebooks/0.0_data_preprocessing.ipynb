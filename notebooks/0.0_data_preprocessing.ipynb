{
 "cells": [
  {
   "cell_type": "code",
   "execution_count": 2,
   "id": "initial_id",
   "metadata": {
    "collapsed": true,
    "ExecuteTime": {
     "end_time": "2023-12-03T13:41:51.363286Z",
     "start_time": "2023-12-03T13:41:51.112510Z"
    }
   },
   "outputs": [],
   "source": [
    "import pandas as pd\n",
    "from rectools import Columns"
   ]
  },
  {
   "cell_type": "code",
   "execution_count": 5,
   "outputs": [],
   "source": [
    "df = pd.read_csv(\n",
    "    \"../data/raw/u.data\", \n",
    "    sep=\"\\t\",\n",
    "    header=None,\n",
    "    names=[Columns.User, Columns.Item, Columns.Weight, Columns.Datetime],\n",
    ")\n",
    "df.to_csv(\"../data/interim/rating.csv\", index=False)"
   ],
   "metadata": {
    "collapsed": false,
    "ExecuteTime": {
     "end_time": "2023-12-03T13:42:39.058213Z",
     "start_time": "2023-12-03T13:42:39.034199Z"
    }
   },
   "id": "5a8d26255a77a520"
  },
  {
   "cell_type": "code",
   "execution_count": 22,
   "outputs": [],
   "source": [
    "df = pd.read_csv(\n",
    "    \"../data/raw/u.item\", \n",
    "    sep=\"|\",\n",
    "    header=None,\n",
    "    names=[\"movie_id\", \"movie_title\", \"release_date\", \"video_release_date\", \n",
    "           \"IMDb_URL\", \"unknown\", \"Action\", \"Adventure\", \"Animation\", \"Children's\", \n",
    "           \"Comedy\", \"Crime\", \"Documentary\", \"Drama\", \"Fantasy\", \"Film-Noir\", \n",
    "           \"Horror\", \"Musical\", \"Mystery\", \"Romance\", \"Sci-Fi\", \"Thriller\", \"War\", \"Western\"],\n",
    "    encoding='latin-1',\n",
    "    index_col=\"movie_id\"\n",
    ")\n",
    "df.drop([\"video_release_date\", \"IMDb_URL\"], axis=1, inplace=True)\n",
    "df.to_csv(\"../data/interim/movie.csv\")"
   ],
   "metadata": {
    "collapsed": false,
    "ExecuteTime": {
     "end_time": "2023-12-03T13:50:27.591909Z",
     "start_time": "2023-12-03T13:50:27.582058Z"
    }
   },
   "id": "2d76540d00fcc571"
  },
  {
   "cell_type": "code",
   "execution_count": 26,
   "outputs": [],
   "source": [
    "df = pd.read_csv(\n",
    "    \"../data/raw/u.user\", \n",
    "    sep=\"|\",\n",
    "    header=None,\n",
    "    names=[\"user_id\", \"age\", \"gender\", \"occupation\", \"zip_code\"],\n",
    "    index_col=\"user_id\"\n",
    ")\n",
    "df.to_csv(\"../data/interim/user.csv\")"
   ],
   "metadata": {
    "collapsed": false,
    "ExecuteTime": {
     "end_time": "2023-12-03T13:52:02.820692Z",
     "start_time": "2023-12-03T13:52:02.814545Z"
    }
   },
   "id": "2995174c3bfdfb72"
  },
  {
   "cell_type": "code",
   "execution_count": 25,
   "outputs": [],
   "source": [],
   "metadata": {
    "collapsed": false,
    "ExecuteTime": {
     "end_time": "2023-12-03T13:51:59.673641Z",
     "start_time": "2023-12-03T13:51:59.666850Z"
    }
   },
   "id": "883d25a12e80e285"
  },
  {
   "cell_type": "code",
   "execution_count": null,
   "outputs": [],
   "source": [],
   "metadata": {
    "collapsed": false
   },
   "id": "487b4844abdcd8be"
  }
 ],
 "metadata": {
  "kernelspec": {
   "display_name": "Python 3",
   "language": "python",
   "name": "python3"
  },
  "language_info": {
   "codemirror_mode": {
    "name": "ipython",
    "version": 2
   },
   "file_extension": ".py",
   "mimetype": "text/x-python",
   "name": "python",
   "nbconvert_exporter": "python",
   "pygments_lexer": "ipython2",
   "version": "2.7.6"
  }
 },
 "nbformat": 4,
 "nbformat_minor": 5
}
