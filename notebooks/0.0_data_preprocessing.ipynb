{
 "cells": [
  {
   "cell_type": "code",
   "execution_count": 2,
   "id": "initial_id",
   "metadata": {
    "collapsed": true,
    "ExecuteTime": {
     "end_time": "2023-12-03T13:41:51.363286Z",
     "start_time": "2023-12-03T13:41:51.112510Z"
    }
   },
   "outputs": [],
   "source": [
    "import pandas as pd\n",
    "from rectools import Columns"
   ]
  },
  {
   "cell_type": "code",
   "execution_count": 42,
   "outputs": [],
   "source": [
    "ratings = pd.read_csv(\n",
    "    \"../data/raw/u.data\", \n",
    "    sep=\"\\t\",\n",
    "    header=None,\n",
    "    names=[Columns.User, Columns.Item, Columns.Weight, Columns.Datetime],\n",
    ")\n",
    "ratings.datetime = pd.to_datetime(ratings.datetime, unit='s')\n",
    "ratings.to_csv(\"../data/interim/rating.csv\", index=False)"
   ],
   "metadata": {
    "collapsed": false,
    "ExecuteTime": {
     "end_time": "2023-12-03T14:04:49.507298Z",
     "start_time": "2023-12-03T14:04:49.375137Z"
    }
   },
   "id": "5a8d26255a77a520"
  },
  {
   "cell_type": "code",
   "execution_count": 28,
   "outputs": [],
   "source": [
    "items = pd.read_csv(\n",
    "    \"../data/raw/u.item\", \n",
    "    sep=\"|\",\n",
    "    header=None,\n",
    "    names=[\"movie_id\", \"movie_title\", \"release_date\", \"video_release_date\", \n",
    "           \"IMDb_URL\", \"unknown\", \"Action\", \"Adventure\", \"Animation\", \"Children's\", \n",
    "           \"Comedy\", \"Crime\", \"Documentary\", \"Drama\", \"Fantasy\", \"Film-Noir\", \n",
    "           \"Horror\", \"Musical\", \"Mystery\", \"Romance\", \"Sci-Fi\", \"Thriller\", \"War\", \"Western\"],\n",
    "    encoding='latin-1',\n",
    "    index_col=\"movie_id\"\n",
    ")\n",
    "items.drop([\"video_release_date\", \"IMDb_URL\"], axis=1, inplace=True)\n",
    "items.to_csv(\"../data/interim/movie.csv\")"
   ],
   "metadata": {
    "collapsed": false,
    "ExecuteTime": {
     "end_time": "2023-12-03T13:59:44.399030Z",
     "start_time": "2023-12-03T13:59:44.388407Z"
    }
   },
   "id": "2d76540d00fcc571"
  },
  {
   "cell_type": "code",
   "execution_count": 41,
   "outputs": [],
   "source": [
    "users = pd.read_csv(\n",
    "    \"../data/raw/u.user\", \n",
    "    sep=\"|\",\n",
    "    header=None,\n",
    "    names=[\"user_id\", \"age\", \"gender\", \"occupation\", \"zip_code\"],\n",
    "    index_col=\"user_id\"\n",
    ")\n",
    "\n",
    "# Select only users that present in 'ratings' table\n",
    "users = users.loc[users.index.isin(ratings[\"user_id\"])].copy()\n",
    "\n",
    "users.to_csv(\"../data/interim/user.csv\")"
   ],
   "metadata": {
    "collapsed": false,
    "ExecuteTime": {
     "end_time": "2023-12-03T14:01:37.921579Z",
     "start_time": "2023-12-03T14:01:37.913429Z"
    }
   },
   "id": "2995174c3bfdfb72"
  },
  {
   "cell_type": "code",
   "execution_count": null,
   "outputs": [],
   "source": [],
   "metadata": {
    "collapsed": false
   },
   "id": "91d94d9cfe8ed45f"
  }
 ],
 "metadata": {
  "kernelspec": {
   "display_name": "Python 3",
   "language": "python",
   "name": "python3"
  },
  "language_info": {
   "codemirror_mode": {
    "name": "ipython",
    "version": 2
   },
   "file_extension": ".py",
   "mimetype": "text/x-python",
   "name": "python",
   "nbconvert_exporter": "python",
   "pygments_lexer": "ipython2",
   "version": "2.7.6"
  }
 },
 "nbformat": 4,
 "nbformat_minor": 5
}
