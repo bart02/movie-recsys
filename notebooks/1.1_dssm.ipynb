{
 "cells": [
  {
   "cell_type": "code",
   "execution_count": 1,
   "id": "initial_id",
   "metadata": {
    "collapsed": true,
    "ExecuteTime": {
     "end_time": "2023-12-03T23:21:23.996282Z",
     "start_time": "2023-12-03T23:21:23.942111Z"
    }
   },
   "outputs": [],
   "source": [
    "from rectools import Columns"
   ]
  },
  {
   "cell_type": "markdown",
   "source": [
    "# Load and split dataset\n",
    "Here we use data with users' and movies' features"
   ],
   "metadata": {
    "collapsed": false
   },
   "id": "96f9b988fe0178ec"
  },
  {
   "cell_type": "code",
   "execution_count": 2,
   "outputs": [],
   "source": [
    "import utils\n",
    "df_train, user_features_train, item_features_train, df_test = utils.read_split_rating_dataset_with_features(\n",
    "    '../data/interim/rating.csv', '../data/interim/user.csv', '../data/interim/movie.csv')"
   ],
   "metadata": {
    "collapsed": false,
    "ExecuteTime": {
     "end_time": "2023-12-03T23:21:24.787122Z",
     "start_time": "2023-12-03T23:21:24.590847Z"
    }
   },
   "id": "a17921de13d2c4f5"
  },
  {
   "cell_type": "markdown",
   "source": [
    "# Fit model and generate recommendations"
   ],
   "metadata": {
    "collapsed": false
   },
   "id": "98aac48c96faea4a"
  },
  {
   "cell_type": "code",
   "execution_count": 5,
   "outputs": [
    {
     "name": "stderr",
     "output_type": "stream",
     "text": [
      "/Users/artembatalov/miniconda3/envs/movie-recsys/lib/python3.10/site-packages/lightfm/_lightfm_fast.py:9: UserWarning: LightFM was compiled without OpenMP support. Only a single thread will be used.\n",
      "  warnings.warn(\n"
     ]
    }
   ],
   "source": [
    "from rectools.dataset import Dataset\n",
    "from rectools.models import DSSMModel\n",
    "from rectools.dataset.torch_datasets import DSSMDataset\n",
    "\n",
    "# Fit model and generate recommendations for all users\n",
    "dataset = Dataset.construct(\n",
    "    df_train,\n",
    "    user_features_df=user_features_train,  # our flatten dataframe\n",
    "    item_features_df=item_features_train,  # our flatten dataframe\n",
    "    cat_user_features=[\"gender\", \"occupation\"], # these will be one-hot-encoded. All other features must be numerical already\n",
    "    make_dense_user_features=False,  # for `sparse` format\n",
    "    make_dense_item_features=False,  # for `sparse` format\n",
    ")"
   ],
   "metadata": {
    "collapsed": false,
    "ExecuteTime": {
     "end_time": "2023-12-03T23:21:26.007956Z",
     "start_time": "2023-12-03T23:21:25.209327Z"
    }
   },
   "id": "4b875a9bbd80ec73"
  },
  {
   "cell_type": "code",
   "execution_count": 6,
   "outputs": [
    {
     "name": "stderr",
     "output_type": "stream",
     "text": [
      "GPU available: True (mps), used: True\n",
      "TPU available: False, using: 0 TPU cores\n",
      "IPU available: False, using: 0 IPUs\n",
      "HPU available: False, using: 0 HPUs\n",
      "/Users/artembatalov/miniconda3/envs/movie-recsys/lib/python3.10/site-packages/pytorch_lightning/trainer/connectors/logger_connector/logger_connector.py:67: UserWarning: Starting from v1.9.0, `tensorboardX` has been removed as a dependency of the `pytorch_lightning` package, due to potential conflicts with other packages in the ML ecosystem. For this reason, `logger=True` will use `CSVLogger` as the default logger, unless the `tensorboard` or `tensorboardX` packages are found. Please `pip install lightning[extra]` or one of them to enable TensorBoard support by default\n",
      "  warning_cache.warn(\n",
      "/Users/artembatalov/miniconda3/envs/movie-recsys/lib/python3.10/site-packages/pytorch_lightning/trainer/configuration_validator.py:108: PossibleUserWarning: You defined a `validation_step` but have no `val_dataloader`. Skipping val loop.\n",
      "  rank_zero_warn(\n",
      "Missing logger folder: /Users/artembatalov/Projects/movie-recsys/notebooks/lightning_logs\n",
      "\n",
      "  | Name     | Type    | Params\n",
      "-------------------------------------\n",
      "0 | user_net | UserNet | 258 K \n",
      "1 | item_net | ItemNet | 35.2 K\n",
      "-------------------------------------\n",
      "293 K     Trainable params\n",
      "0         Non-trainable params\n",
      "293 K     Total params\n",
      "1.173     Total estimated model params size (MB)\n",
      "/Users/artembatalov/miniconda3/envs/movie-recsys/lib/python3.10/site-packages/pytorch_lightning/trainer/connectors/data_connector.py:224: PossibleUserWarning: The dataloader, train_dataloader, does not have many workers which may be a bottleneck. Consider increasing the value of the `num_workers` argument` (try 10 which is the number of cpus on this machine) in the `DataLoader` init to improve performance.\n",
      "  rank_zero_warn(\n",
      "/Users/artembatalov/miniconda3/envs/movie-recsys/lib/python3.10/site-packages/pytorch_lightning/trainer/trainer.py:1609: PossibleUserWarning: The number of training batches (46) is smaller than the logging interval Trainer(log_every_n_steps=50). Set a lower value for log_every_n_steps if you want to see logs for the training epoch.\n",
      "  rank_zero_warn(\n"
     ]
    },
    {
     "data": {
      "text/plain": "Training: 0it [00:00, ?it/s]",
      "application/vnd.jupyter.widget-view+json": {
       "version_major": 2,
       "version_minor": 0,
       "model_id": "c7bea25e8be5428b953a01d26d7bbdd6"
      }
     },
     "metadata": {},
     "output_type": "display_data"
    },
    {
     "name": "stderr",
     "output_type": "stream",
     "text": [
      "/Users/artembatalov/miniconda3/envs/movie-recsys/lib/python3.10/site-packages/pytorch_lightning/callbacks/progress/base.py:249: UserWarning: The progress bar already tracks a metric with the name(s) 'loss' and `self.log('loss', ..., prog_bar=True)` will overwrite this value.  If this is undesired, change the name or override `get_metrics()` in the progress bar callback.\n",
      "  rank_zero_warn(\n",
      "`Trainer.fit` stopped: `max_epochs=10` reached.\n"
     ]
    }
   ],
   "source": [
    "model = DSSMModel(DSSMDataset, max_epochs=10, batch_size=16)\n",
    "model.fit(dataset)\n",
    "recos = model.recommend(\n",
    "    users=df_train[Columns.User].unique(),\n",
    "    dataset=dataset,\n",
    "    k=10,\n",
    "    filter_viewed=True,\n",
    ")"
   ],
   "metadata": {
    "collapsed": false,
    "ExecuteTime": {
     "end_time": "2023-12-03T23:21:37.452146Z",
     "start_time": "2023-12-03T23:21:26.019869Z"
    }
   },
   "id": "55c35dfaf83cc017"
  },
  {
   "cell_type": "markdown",
   "source": [
    "As we can see, loss in not decreasing, i.e. model is not training."
   ],
   "metadata": {
    "collapsed": false
   },
   "id": "a9b3911dc7f5b340"
  },
  {
   "cell_type": "code",
   "execution_count": 10,
   "outputs": [],
   "source": [
    "# Save artifact\n",
    "import pickle\n",
    "with open('../models/dssm_model.pkl', 'wb') as f:\n",
    "    pickle.dump(model, f)"
   ],
   "metadata": {
    "collapsed": false,
    "ExecuteTime": {
     "end_time": "2023-12-03T23:22:41.785614Z",
     "start_time": "2023-12-03T23:22:41.778037Z"
    }
   },
   "id": "cafd4d14c26d4b32"
  },
  {
   "cell_type": "markdown",
   "source": [
    "# Evaluate\n",
    "Use same metrics as in previous notebook."
   ],
   "metadata": {
    "collapsed": false
   },
   "id": "35da7eeca18e1fa2"
  },
  {
   "cell_type": "code",
   "execution_count": 8,
   "outputs": [],
   "source": [
    "from rectools.metrics import MAP, calc_metrics, MeanInvUserFreq, Serendipity\n",
    "\n",
    "metrics_name = {\n",
    "    'MAP': MAP,\n",
    "    'MIUF': MeanInvUserFreq,\n",
    "    'Serendipity': Serendipity\n",
    "}\n",
    "metrics = {}\n",
    "for metric_name, metric in metrics_name.items():\n",
    "    for k in (1, 5, 10):\n",
    "        metrics[f'{metric_name}@{k}'] = metric(k=k)\n",
    "\n",
    "# Source: https://github.com/MobileTeleSystems/RecTools/blob/main/examples/5_benchmark_iALS_with_features.ipynb"
   ],
   "metadata": {
    "collapsed": false,
    "ExecuteTime": {
     "end_time": "2023-12-03T23:21:58.767998Z",
     "start_time": "2023-12-03T23:21:58.752080Z"
    }
   },
   "id": "b3b493d4b56eb243"
  },
  {
   "cell_type": "code",
   "execution_count": 9,
   "outputs": [
    {
     "data": {
      "text/plain": "{'MAP@1': 0.0015801737297596746,\n 'MAP@5': 0.005944469882293707,\n 'MAP@10': 0.007530860963287377,\n 'MIUF@1': 3.9721646727797153,\n 'MIUF@5': 3.0952953892088346,\n 'MIUF@10': 3.177958730690907,\n 'Serendipity@1': 0.0003278444732857451,\n 'Serendipity@5': 0.0004054117996971661,\n 'Serendipity@10': 0.0004518845987454034}"
     },
     "execution_count": 9,
     "metadata": {},
     "output_type": "execute_result"
    }
   ],
   "source": [
    "catalog = df_train[Columns.Item].unique()\n",
    "\n",
    "calc_metrics(\n",
    "    metrics,\n",
    "    reco=recos,\n",
    "    interactions=df_test,\n",
    "    prev_interactions=df_train,\n",
    "    catalog=catalog\n",
    ")"
   ],
   "metadata": {
    "collapsed": false,
    "ExecuteTime": {
     "end_time": "2023-12-03T23:21:59.133838Z",
     "start_time": "2023-12-03T23:21:59.101529Z"
    }
   },
   "id": "e9ed68c2e21f7b78"
  },
  {
   "cell_type": "markdown",
   "source": [
    "So bad... I tried to train model with different parameters, but it didn't help. DSSM seems unsuitable for our task."
   ],
   "metadata": {
    "collapsed": false
   },
   "id": "804c82eb3998249d"
  }
 ],
 "metadata": {
  "kernelspec": {
   "display_name": "Python 3",
   "language": "python",
   "name": "python3"
  },
  "language_info": {
   "codemirror_mode": {
    "name": "ipython",
    "version": 2
   },
   "file_extension": ".py",
   "mimetype": "text/x-python",
   "name": "python",
   "nbconvert_exporter": "python",
   "pygments_lexer": "ipython2",
   "version": "2.7.6"
  }
 },
 "nbformat": 4,
 "nbformat_minor": 5
}
